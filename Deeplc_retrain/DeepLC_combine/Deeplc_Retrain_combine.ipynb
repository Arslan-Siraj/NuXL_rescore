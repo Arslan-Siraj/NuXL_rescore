{
 "cells": [
  {
   "cell_type": "code",
   "execution_count": null,
   "metadata": {},
   "outputs": [],
   "source": [
    "import tensorflow as tf\n",
    "from deeplcretrainer import deeplcretrainer\n",
    "import pandas as pd\n",
    "from tensorflow.python.eager import context\n",
    "from deeplc import DeepLC\n",
    "import statsmodels.api as sm\n",
    "\n",
    "import matplotlib.pyplot as plt\n",
    "import pandas as pd\n",
    "from sklearn.metrics import r2_score\n",
    "from sklearn.metrics import mean_absolute_error \n",
    "import numpy as np\n",
    "\n",
    "from deeplc.feat_extractor import FeatExtractor\n",
    "import os\n"
   ]
  },
  {
   "cell_type": "code",
   "execution_count": null,
   "metadata": {},
   "outputs": [],
   "source": [
    "features = FeatExtractor(\"/home/ubuntu/NuXL_rescore/unimod/unimod_to_formula.csv\")\n",
    "df_train_file = \"/home/ubuntu/NuXL_rescore/Deeplc_retrain/Train_RNA_All.csv\"\n",
    "base_model = \"/home/ubuntu/Rescoring/RT_deeplc_model/base_model/\"\n"
   ]
  },
  {
   "cell_type": "code",
   "execution_count": null,
   "metadata": {},
   "outputs": [],
   "source": [
    "#Training \n",
    "\n",
    "_ = tf.Variable([1])\n",
    "context._context = None\n",
    "context._create_context()\n",
    "tf.config.threading.set_inter_op_parallelism_threads(1) \n",
    "\n",
    "models = deeplcretrainer.retrain(\n",
    "    [df_train_file],\n",
    "    mods_transfer_learning=[\n",
    "        base_model +\"/full_hc_train_1fd8363d9af9dcad3be7553c39396960.hdf5\",\n",
    "        base_model +\"/full_hc_train_8c22d89667368f2f02ad996469ba157e.hdf5\",\n",
    "        base_model +\"/full_hc_train_cb975cfdd4105f97efa0b3afffe075cc.hdf5\"\n",
    "    ],\n",
    "    freeze_layers=True,\n",
    "    n_epochs=30,\n",
    "    costum_modification_file = \"/home/ubuntu/NuXL_rescore/unimod/unimod_to_formula.csv\",\n",
    "    freeze_after_concat=0,\n",
    "    plot_results= True,\n",
    "    write_csv_results = True,\n",
    "    batch_size=32\n",
    ")\n",
    "\n"
   ]
  },
  {
   "cell_type": "code",
   "execution_count": null,
   "metadata": {},
   "outputs": [],
   "source": [
    "def evaluate_linear_regression_plot_(df:pd.DataFrame, x=\"tr\", y=\"predicted_rt\", name=\"evaluate_regression\", model_name = \"base model\"):\n",
    "    ci=95\n",
    "    n_sample=10000000\n",
    "    if len(df) > n_sample:\n",
    "        df = df.sample(n_sample, replace=False)\n",
    "    gls = sm.GLS(df[y], sm.add_constant(df[x]))\n",
    "    res = gls.fit()\n",
    "    summary = res.summary(alpha=1-ci/100.0)\n",
    "    dfs = []\n",
    "    results_as_html = summary.tables[0].as_html()\n",
    "    dfs.append(pd.read_html(results_as_html, index_col=None)[0])\n",
    "    results_as_html = summary.tables[1].as_html()\n",
    "    dfs.append(pd.read_html(results_as_html, index_col=None)[0])\n",
    "    summary = pd.concat(dfs, ignore_index=True)\n",
    "    R_square = float(summary.loc[0,3])\n",
    "    R = np.sqrt(R_square)\n",
    "    n,b,w = summary.loc[[5,10,11],1].values.astype(float)\n",
    "    \n",
    "    from scipy.stats import pearsonr\n",
    "    X_ = pearsonr(np.array(df[x]), np.array(df[y]))\n",
    "    print(\"X_------\", X_)\n",
    "\n",
    "    MAE = mean_absolute_error (df[x], df[y])\n",
    "    perc95_calib = np.percentile(abs(df[x]-df[y]),95)*2\n",
    "    \n",
    "    plt.figure(figsize=(10.0,8.5))\n",
    "    plt.title(name + model_name +  f\"\\n R: {round(R,3)} - MAE: {round(MAE,2)} - 95th percentile: {round(perc95_calib,2)}\", fontsize=16)#  R_Square: {round(R_square,3)}\") # \\n slope: {round(w,3)} intercept: {round(b,3)} samples: {n}\")\n",
    "    plt.scatter(df[y],df[x],s=1,alpha=0.6, color=\"tab:blue\")\n",
    "    plt.ylabel(\"Observed retention time\", fontsize=16)\n",
    "    plt.xlabel(\"Predicted retention time\", fontsize=16) \n",
    "    plt.ylim([0, 10000])\n",
    "    plt.xlim([0, 10000])\n",
    "    plt.savefig(name+ model_name +\".pdf\")\n",
    "\n",
    "    return pd.DataFrame(\n",
    "        dict(\n",
    "            MAE=[MAE],perc95_calib=[perc95_calib], R_square=[R_square],R=[R],\n",
    "            slope=[w],intercept=[b],test_num=[n]\n",
    "        )\n",
    "    )\n",
    "    "
   ]
  },
  {
   "cell_type": "code",
   "execution_count": null,
   "metadata": {},
   "outputs": [],
   "source": [
    "def model_Results (model, cal_df, data, name, model_name):\n",
    "    model.calibrate_preds(seq_df=cal_df)\n",
    "    preds_new = model.make_preds(seq_df=data, calibrate=True)\n",
    "    data['predicted_rt'] = preds_new\n",
    "    n = name\n",
    "    result_df = evaluate_linear_regression_plot_(data,\"tr\", \"predicted_rt\", n, model_name)\n",
    "    print(result_df)\n",
    "    data.to_csv(name + model_name+'.csv')\n",
    "    print(\"File saved at: \", name + model_name+'.csv')\n"
   ]
  },
  {
   "cell_type": "code",
   "execution_count": null,
   "metadata": {},
   "outputs": [],
   "source": [
    "#Taking predictions of test dataset from base model\n",
    "Train_All= pd.read_csv(\"/home/ubuntu/NuXL_rescore/Deeplc_retrain/Train_RNA_All.csv\")\n",
    "Test_All = pd.read_csv(\"/home/ubuntu/NuXL_rescore/Deeplc_retrain/Test_RNA_All.csv\") \n",
    "\n",
    "_ = tf.Variable([1])\n",
    "context._context = None\n",
    "context._create_context()\n",
    "tf.config.threading.set_inter_op_parallelism_threads(1) \n",
    "\n",
    "dlc = DeepLC(\n",
    "        path_model=[\n",
    "                base_model +\"/full_hc_train_1fd8363d9af9dcad3be7553c39396960.hdf5\",\n",
    "                base_model +\"/full_hc_train_8c22d89667368f2f02ad996469ba157e.hdf5\",\n",
    "                base_model +\"/full_hc_train_cb975cfdd4105f97efa0b3afffe075cc.hdf5\"\n",
    "        ],\n",
    "        batch_num=1024000,\n",
    "        pygam_calibration=True,\n",
    "        f_extractor = features\n",
    ")\n",
    "\n",
    "model_Results(dlc, Train_All, Test_All, \"All\", \"DeepLC (base model)\")"
   ]
  },
  {
   "cell_type": "code",
   "execution_count": null,
   "metadata": {},
   "outputs": [],
   "source": [
    "#Taking predictions of test dataset from generic model\n",
    "generic_model = \"/home/ubuntu/NuXL_rescore/RT_deeplc_model/generic_model\"\n",
    "\n",
    "_ = tf.Variable([1])\n",
    "context._context = None\n",
    "context._create_context()\n",
    "tf.config.threading.set_inter_op_parallelism_threads(1) \n",
    "\n",
    "dlc = DeepLC(\n",
    "        path_model=[\n",
    "                generic_model + \"/full_hc_Train_RNA_All_1fd8363d9af9dcad3be7553c39396960.hdf5\",\n",
    "                generic_model + \"/full_hc_Train_RNA_All_8c22d89667368f2f02ad996469ba157e.hdf5\",\n",
    "                generic_model + \"/full_hc_Train_RNA_All_cb975cfdd4105f97efa0b3afffe075cc.hdf5\"\n",
    "        ],\n",
    "        batch_num=1024000,\n",
    "        pygam_calibration=True,\n",
    "        f_extractor = features\n",
    ")\n",
    "\n",
    "model_Results(dlc, Train_All, Test_All, \"All\", \"DeepLC (generic model)\")\n"
   ]
  },
  {
   "cell_type": "code",
   "execution_count": null,
   "metadata": {},
   "outputs": [],
   "source": []
  }
 ],
 "metadata": {
  "kernelspec": {
   "display_name": "pyopenms",
   "language": "python",
   "name": "python3"
  },
  "language_info": {
   "codemirror_mode": {
    "name": "ipython",
    "version": 3
   },
   "file_extension": ".py",
   "mimetype": "text/x-python",
   "name": "python",
   "nbconvert_exporter": "python",
   "pygments_lexer": "ipython3",
   "version": "3.9.16"
  },
  "orig_nbformat": 4,
  "vscode": {
   "interpreter": {
    "hash": "1559363c6de5cf29960ea6f309a68e6370cc19d0a986c51230a800d5ddb281b9"
   }
  }
 },
 "nbformat": 4,
 "nbformat_minor": 2
}
